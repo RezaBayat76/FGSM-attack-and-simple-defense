{
  "nbformat": 4,
  "nbformat_minor": 0,
  "metadata": {
    "colab": {
      "name": "FGSM-attack-and-simple-defense.ipynb",
      "provenance": []
    },
    "kernelspec": {
      "name": "python3",
      "display_name": "Python 3"
    }
  },
  "cells": [
    {
      "cell_type": "code",
      "metadata": {
        "id": "3bZFlqHQaNUz"
      },
      "source": [
        "import tensorflow as tf\n",
        "\n",
        "from tensorflow.keras.datasets import mnist, cifar10, cifar100\n",
        "\n",
        "from tensorflow.keras import Sequential\n",
        "from tensorflow.keras.callbacks import LambdaCallback\n",
        "from tensorflow.keras.layers import Conv2D, MaxPooling2D, Dropout, Dense, Flatten, Activation\n",
        "\n",
        "import numpy as np\n",
        "import random\n",
        "\n",
        "import matplotlib.pyplot as plt"
      ],
      "execution_count": null,
      "outputs": []
    },
    {
      "cell_type": "code",
      "metadata": {
        "colab": {
          "base_uri": "https://localhost:8080/",
          "height": 37
        },
        "id": "wgCT8eYhbkRb",
        "outputId": "87494b24-1ce7-4727-b1ea-c286976050af"
      },
      "source": [
        "# This should print something along the lines of '2.0.0-rc1'\n",
        "tf.__version__"
      ],
      "execution_count": null,
      "outputs": [
        {
          "output_type": "execute_result",
          "data": {
            "application/vnd.google.colaboratory.intrinsic+json": {
              "type": "string"
            },
            "text/plain": [
              "'2.3.0'"
            ]
          },
          "metadata": {
            "tags": []
          },
          "execution_count": 17
        }
      ]
    },
    {
      "cell_type": "code",
      "metadata": {
        "id": "BZqHclI_aq9u"
      },
      "source": [
        "(x_train, y_train), (x_test, y_test) = mnist.load_data()"
      ],
      "execution_count": null,
      "outputs": []
    },
    {
      "cell_type": "code",
      "metadata": {
        "id": "tLxItTMqariB"
      },
      "source": [
        "# Cifar100\n",
        "# labels = ['apple', 'aquarium_fish', 'baby', 'bear', 'beaver', 'bed', 'bee', 'beetle',\n",
        "#                 'bicycle', 'bottle', 'bowl', 'boy', 'bridge', 'bus', 'butterfly', 'camel',\n",
        "#                 'can', 'castle', 'caterpillar', 'cattle', 'chair', 'chimpanzee', 'clock',\n",
        "#                 'cloud', 'cockroach', 'couch', 'crab', 'crocodile', 'cup', 'dinosaur',\n",
        "#                 'dolphin', 'elephant', 'flatfish', 'forest', 'fox', 'girl', 'hamster',\n",
        "#                 'house', 'kangaroo', 'keyboard', 'lamp', 'lawn_mower', 'leopard', 'lion',\n",
        "#                 'lizard', 'lobster', 'man', 'maple_tree', 'motorcycle', 'mountain', 'mouse',\n",
        "#                 'mushroom', 'oak_tree', 'orange', 'orchid', 'otter', 'palm_tree', 'pear',\n",
        "#                 'pickup_truck', 'pine_tree', 'plain', 'plate', 'poppy', 'porcupine',\n",
        "#                 'possum', 'rabbit', 'raccoon', 'ray', 'road', 'rocket', 'rose',\n",
        "#                 'sea', 'seal', 'shark', 'shrew', 'skunk', 'skyscraper', 'snail', 'snake',\n",
        "#                 'spider', 'squirrel', 'streetcar', 'sunflower', 'sweet_pepper', 'table',\n",
        "#                 'tank', 'telephone', 'television', 'tiger', 'tractor', 'train', 'trout',\n",
        "#                 'tulip', 'turtle', 'wardrobe', 'whale', 'willow_tree', 'wolf', 'woman',\n",
        "#                 'worm']\n",
        "\n",
        "# Cifar10\n",
        "# labels = ['airplane', 'automobile', 'bird', 'cat', 'deer', 'dog', 'frog', 'horse', 'ship', 'truck']\n",
        "\n",
        "# MNIST\n",
        "labels = ['zero', 'one', 'two', 'three', 'four', 'five', 'six', 'seven', 'eight', 'nine']"
      ],
      "execution_count": null,
      "outputs": []
    },
    {
      "cell_type": "code",
      "metadata": {
        "colab": {
          "base_uri": "https://localhost:8080/"
        },
        "id": "WS93XfqsaO2X",
        "outputId": "92d038b4-e0b0-46a3-a316-bb34407c99ef"
      },
      "source": [
        "# Pre-process data\n",
        "img_rows, img_cols, channels = 28, 28, 1 # 32, 32, 3\n",
        "num_classes = 10\n",
        "\n",
        "x_train = x_train / 255\n",
        "x_test = x_test / 255\n",
        "\n",
        "x_train = x_train.reshape((-1, img_rows, img_cols, channels))\n",
        "x_test = x_test.reshape((-1, img_rows, img_cols, channels))\n",
        "\n",
        "y_train = tf.keras.utils.to_categorical(y_train, num_classes)\n",
        "y_test = tf.keras.utils.to_categorical(y_test, num_classes)\n",
        "\n",
        "print(\"Data shapes\", x_test.shape, y_test.shape, x_train.shape, y_train.shape)"
      ],
      "execution_count": null,
      "outputs": [
        {
          "output_type": "stream",
          "text": [
            "Data shapes (10000, 28, 28, 1) (10000, 10) (60000, 28, 28, 1) (60000, 10)\n"
          ],
          "name": "stdout"
        }
      ]
    },
    {
      "cell_type": "code",
      "metadata": {
        "id": "G7_JceTua03x"
      },
      "source": [
        "# Create model\n",
        "def create_model():\n",
        "    model = Sequential()\n",
        "    model.add(Conv2D(32, kernel_size=(3, 3), strides=(3, 3), padding='same', activation='relu', input_shape=(img_rows, img_cols, channels)))\n",
        "    model.add(Conv2D(64, kernel_size=(3, 3), strides=(3, 3), padding='same', activation='relu'))\n",
        "    model.add(Conv2D(64, kernel_size=(3, 3), strides=(3, 3), padding='same', activation='relu'))\n",
        "    model.add(MaxPooling2D(pool_size=(2, 2)))\n",
        "    model.add(Dropout(0.2))\n",
        "    model.add(Flatten())\n",
        "    model.add(Dense(32))\n",
        "    model.add(Dropout(0.2))\n",
        "    model.add(Dense(32))\n",
        "    model.add(Dropout(0.2))\n",
        "    model.add(Dense(num_classes, activation='softmax'))\n",
        "\n",
        "    model.compile(optimizer='adam', loss='mse', metrics=['accuracy'])\n",
        "    \n",
        "    return model"
      ],
      "execution_count": null,
      "outputs": []
    },
    {
      "cell_type": "code",
      "metadata": {
        "colab": {
          "base_uri": "https://localhost:8080/"
        },
        "id": "9bVzHwNrbB0I",
        "outputId": "76549955-f8dd-4de1-f128-4c7c813ceba3"
      },
      "source": [
        "# Create and fit model\n",
        "model = create_model()\n",
        "model.summary()"
      ],
      "execution_count": null,
      "outputs": [
        {
          "output_type": "stream",
          "text": [
            "Model: \"sequential_3\"\n",
            "_________________________________________________________________\n",
            "Layer (type)                 Output Shape              Param #   \n",
            "=================================================================\n",
            "conv2d_9 (Conv2D)            (None, 10, 10, 32)        320       \n",
            "_________________________________________________________________\n",
            "conv2d_10 (Conv2D)           (None, 4, 4, 64)          18496     \n",
            "_________________________________________________________________\n",
            "conv2d_11 (Conv2D)           (None, 2, 2, 64)          36928     \n",
            "_________________________________________________________________\n",
            "max_pooling2d_3 (MaxPooling2 (None, 1, 1, 64)          0         \n",
            "_________________________________________________________________\n",
            "dropout_9 (Dropout)          (None, 1, 1, 64)          0         \n",
            "_________________________________________________________________\n",
            "flatten_3 (Flatten)          (None, 64)                0         \n",
            "_________________________________________________________________\n",
            "dense_9 (Dense)              (None, 32)                2080      \n",
            "_________________________________________________________________\n",
            "dropout_10 (Dropout)         (None, 32)                0         \n",
            "_________________________________________________________________\n",
            "dense_10 (Dense)             (None, 32)                1056      \n",
            "_________________________________________________________________\n",
            "dropout_11 (Dropout)         (None, 32)                0         \n",
            "_________________________________________________________________\n",
            "dense_11 (Dense)             (None, 10)                330       \n",
            "=================================================================\n",
            "Total params: 59,210\n",
            "Trainable params: 59,210\n",
            "Non-trainable params: 0\n",
            "_________________________________________________________________\n"
          ],
          "name": "stdout"
        }
      ]
    },
    {
      "cell_type": "code",
      "metadata": {
        "colab": {
          "base_uri": "https://localhost:8080/"
        },
        "id": "oVnvNbtdb9TB",
        "outputId": "51adc419-6aad-42a5-f74a-bbeca036503b"
      },
      "source": [
        "model.fit(x_train, y_train,\n",
        "          batch_size=32,\n",
        "          epochs=20,\n",
        "          validation_data=(x_test, y_test))"
      ],
      "execution_count": null,
      "outputs": [
        {
          "output_type": "stream",
          "text": [
            "Epoch 1/20\n",
            "1875/1875 [==============================] - 14s 7ms/step - loss: 0.0192 - accuracy: 0.8683 - val_loss: 0.0061 - val_accuracy: 0.9598\n",
            "Epoch 2/20\n",
            "1875/1875 [==============================] - 16s 9ms/step - loss: 0.0092 - accuracy: 0.9404 - val_loss: 0.0050 - val_accuracy: 0.9672\n",
            "Epoch 3/20\n",
            "1875/1875 [==============================] - 16s 8ms/step - loss: 0.0072 - accuracy: 0.9542 - val_loss: 0.0042 - val_accuracy: 0.9727\n",
            "Epoch 4/20\n",
            "1875/1875 [==============================] - 14s 7ms/step - loss: 0.0066 - accuracy: 0.9572 - val_loss: 0.0038 - val_accuracy: 0.9747\n",
            "Epoch 5/20\n",
            "1875/1875 [==============================] - 14s 7ms/step - loss: 0.0058 - accuracy: 0.9626 - val_loss: 0.0037 - val_accuracy: 0.9756\n",
            "Epoch 6/20\n",
            "1875/1875 [==============================] - 13s 7ms/step - loss: 0.0055 - accuracy: 0.9651 - val_loss: 0.0034 - val_accuracy: 0.9763\n",
            "Epoch 7/20\n",
            "1875/1875 [==============================] - 14s 7ms/step - loss: 0.0051 - accuracy: 0.9673 - val_loss: 0.0034 - val_accuracy: 0.9788\n",
            "Epoch 8/20\n",
            "1875/1875 [==============================] - 14s 7ms/step - loss: 0.0049 - accuracy: 0.9683 - val_loss: 0.0034 - val_accuracy: 0.9785\n",
            "Epoch 9/20\n",
            "1875/1875 [==============================] - 14s 7ms/step - loss: 0.0045 - accuracy: 0.9717 - val_loss: 0.0031 - val_accuracy: 0.9808\n",
            "Epoch 10/20\n",
            "1875/1875 [==============================] - 14s 7ms/step - loss: 0.0044 - accuracy: 0.9723 - val_loss: 0.0030 - val_accuracy: 0.9813\n",
            "Epoch 11/20\n",
            "1875/1875 [==============================] - 14s 8ms/step - loss: 0.0041 - accuracy: 0.9744 - val_loss: 0.0030 - val_accuracy: 0.9814\n",
            "Epoch 12/20\n",
            "1875/1875 [==============================] - 16s 8ms/step - loss: 0.0041 - accuracy: 0.9747 - val_loss: 0.0031 - val_accuracy: 0.9814\n",
            "Epoch 13/20\n",
            "1875/1875 [==============================] - 14s 7ms/step - loss: 0.0038 - accuracy: 0.9761 - val_loss: 0.0033 - val_accuracy: 0.9801\n",
            "Epoch 14/20\n",
            "1875/1875 [==============================] - 14s 7ms/step - loss: 0.0039 - accuracy: 0.9755 - val_loss: 0.0030 - val_accuracy: 0.9806\n",
            "Epoch 15/20\n",
            "1875/1875 [==============================] - 14s 7ms/step - loss: 0.0035 - accuracy: 0.9782 - val_loss: 0.0031 - val_accuracy: 0.9799\n",
            "Epoch 16/20\n",
            "1875/1875 [==============================] - 14s 7ms/step - loss: 0.0034 - accuracy: 0.9784 - val_loss: 0.0029 - val_accuracy: 0.9823\n",
            "Epoch 17/20\n",
            "1875/1875 [==============================] - 14s 7ms/step - loss: 0.0035 - accuracy: 0.9786 - val_loss: 0.0029 - val_accuracy: 0.9823\n",
            "Epoch 18/20\n",
            "1875/1875 [==============================] - 14s 7ms/step - loss: 0.0034 - accuracy: 0.9792 - val_loss: 0.0029 - val_accuracy: 0.9822\n",
            "Epoch 19/20\n",
            "1875/1875 [==============================] - 14s 7ms/step - loss: 0.0032 - accuracy: 0.9804 - val_loss: 0.0028 - val_accuracy: 0.9826\n",
            "Epoch 20/20\n",
            "1875/1875 [==============================] - 14s 7ms/step - loss: 0.0033 - accuracy: 0.9799 - val_loss: 0.0028 - val_accuracy: 0.9824\n"
          ],
          "name": "stdout"
        },
        {
          "output_type": "execute_result",
          "data": {
            "text/plain": [
              "<tensorflow.python.keras.callbacks.History at 0x7ff2426d6e10>"
            ]
          },
          "metadata": {
            "tags": []
          },
          "execution_count": 25
        }
      ]
    },
    {
      "cell_type": "code",
      "metadata": {
        "colab": {
          "base_uri": "https://localhost:8080/"
        },
        "id": "fioh2Z50bEqf",
        "outputId": "af101e66-f4c1-4cb9-aa5c-ee3dc461e224"
      },
      "source": [
        "print(\"Base accuracy on regular images:\", model.evaluate(x=x_test, y=y_test, verbose=0))"
      ],
      "execution_count": null,
      "outputs": [
        {
          "output_type": "stream",
          "text": [
            "Base accuracy on regular images: [0.0027800381649285555, 0.9824000000953674]\n"
          ],
          "name": "stdout"
        }
      ]
    },
    {
      "cell_type": "code",
      "metadata": {
        "id": "LN77ycWUcK17"
      },
      "source": [
        "# Function to create adversarial pattern\n",
        "def adversarial_pattern(image, label):\n",
        "    image = tf.cast(image, tf.float32)\n",
        "    \n",
        "    with tf.GradientTape() as tape:\n",
        "        tape.watch(image)\n",
        "        prediction = model(image)\n",
        "        loss = tf.keras.losses.MSE(label, prediction)\n",
        "    \n",
        "    gradient = tape.gradient(loss, image)\n",
        "    \n",
        "    signed_grad = tf.sign(gradient)\n",
        "    \n",
        "    return signed_grad"
      ],
      "execution_count": null,
      "outputs": []
    },
    {
      "cell_type": "code",
      "metadata": {
        "colab": {
          "base_uri": "https://localhost:8080/",
          "height": 299
        },
        "id": "4d-0IZzqcWhB",
        "outputId": "fcca21f0-0a77-4cf8-f2fb-296ef4e90a11"
      },
      "source": [
        "# Create a signle adversarial example\n",
        "image = x_train[0]\n",
        "image_label = y_train[0]\n",
        "perturbations = adversarial_pattern(image.reshape((1, img_rows, img_cols, channels)), image_label).numpy()\n",
        "adversarial = image + perturbations * 0.1\n",
        "\n",
        "print('actual:', labels[model.predict(image.reshape((1, img_rows, img_cols, channels))).argmax()])\n",
        "print('adversarial:', labels[model.predict(adversarial).argmax()])\n",
        "\n",
        "if channels == 1:\n",
        "    plt.imshow(adversarial.reshape((img_rows, img_cols)))\n",
        "else:\n",
        "    plt.imshow(adversarial.reshape((img_rows, img_cols, channels)))\n",
        "plt.show()"
      ],
      "execution_count": null,
      "outputs": [
        {
          "output_type": "stream",
          "text": [
            "actual: five\n",
            "adversarial: three\n"
          ],
          "name": "stdout"
        },
        {
          "output_type": "display_data",
          "data": {
            "image/png": "[encoded data removed]",
            "text/plain": [
              "<Figure size 432x288 with 1 Axes>"
            ]
          },
          "metadata": {
            "tags": [],
            "needs_background": "light"
          }
        }
      ]
    },
    {
      "cell_type": "code",
      "metadata": {
        "id": "ZGC1FCSSdlX1"
      },
      "source": [
        "# Adversarial data generator\n",
        "def generate_adversarials(batch_size):\n",
        "    while True:\n",
        "        x = []\n",
        "        y = []\n",
        "        for batch in range(batch_size):\n",
        "            N = random.randint(0, 100)\n",
        "\n",
        "            label = y_train[N]\n",
        "            image = x_train[N]\n",
        "            \n",
        "            perturbations = adversarial_pattern(image.reshape((1, img_rows, img_cols, channels)), label).numpy()\n",
        "            \n",
        "            \n",
        "            epsilon = 0.1\n",
        "            adversarial = image + perturbations * epsilon\n",
        "            \n",
        "            x.append(adversarial)\n",
        "            y.append(y_train[N])\n",
        "        \n",
        "        \n",
        "        x = np.asarray(x).reshape((batch_size, img_rows, img_cols, channels))\n",
        "        y = np.asarray(y)\n",
        "        \n",
        "        yield x, y\n"
      ],
      "execution_count": null,
      "outputs": []
    },
    {
      "cell_type": "code",
      "metadata": {
        "colab": {
          "base_uri": "https://localhost:8080/",
          "height": 1000
        },
        "id": "03rq2aB3jn-e",
        "outputId": "fa75d8af-b8dd-4442-f664-65119290bd29"
      },
      "source": [
        "# Generate and visualize 12 adversarial images\n",
        "adversarials, correct_labels = next(generate_adversarials(12))\n",
        "for adversarial, correct_label in zip(adversarials, correct_labels):\n",
        "    print('Prediction:', labels[model.predict(adversarial.reshape((1, img_rows, img_cols, channels))).argmax()], 'Truth:', labels[correct_label.argmax()])\n",
        "    if channels == 1:\n",
        "        plt.imshow(adversarial.reshape(img_rows, img_cols))\n",
        "    else:\n",
        "        plt.imshow(adversarial)\n",
        "    plt.show()"
      ],
      "execution_count": null,
      "outputs": [
        {
          "output_type": "stream",
          "text": [
            "Prediction: six Truth: six\n"
          ],
          "name": "stdout"
        },
        {
          "output_type": "display_data",
          "data": {
            "image/png": "[encoded data removed]",
            "text/plain": [
              "<Figure size 432x288 with 1 Axes>"
            ]
          },
          "metadata": {
            "tags": [],
            "needs_background": "light"
          }
        },
        {
          "output_type": "stream",
          "text": [
            "Prediction: seven Truth: one\n"
          ],
          "name": "stdout"
        },
        {
          "output_type": "display_data",
          "data": {
            "image/png": "[encoded data removed]",
            "text/plain": [
              "<Figure size 432x288 with 1 Axes>"
            ]
          },
          "metadata": {
            "tags": [],
            "needs_background": "light"
          }
        },
        {
          "output_type": "stream",
          "text": [
            "Prediction: seven Truth: four\n"
          ],
          "name": "stdout"
        },
        {
          "output_type": "display_data",
          "data": {
            "image/png": "[encoded data removed]",
            "text/plain": [
              "<Figure size 432x288 with 1 Axes>"
            ]
          },
          "metadata": {
            "tags": [],
            "needs_background": "light"
          }
        },
        {
          "output_type": "stream",
          "text": [
            "Prediction: zero Truth: zero\n"
          ],
          "name": "stdout"
        },
        {
          "output_type": "display_data",
          "data": {
            "image/png": "[encoded data removed]",
            "text/plain": [
              "<Figure size 432x288 with 1 Axes>"
            ]
          },
          "metadata": {
            "tags": [],
            "needs_background": "light"
          }
        },
        {
          "output_type": "stream",
          "text": [
            "Prediction: six Truth: six\n"
          ],
          "name": "stdout"
        },
        {
          "output_type": "display_data",
          "data": {
            "image/png": "[encoded data removed]",
            "text/plain": [
              "<Figure size 432x288 with 1 Axes>"
            ]
          },
          "metadata": {
            "tags": [],
            "needs_background": "light"
          }
        },
        {
          "output_type": "stream",
          "text": [
            "Prediction: eight Truth: eight\n"
          ],
          "name": "stdout"
        },
        {
          "output_type": "display_data",
          "data": {
            "image/png": "[encoded data removed]",
            "text/plain": [
              "<Figure size 432x288 with 1 Axes>"
            ]
          },
          "metadata": {
            "tags": [],
            "needs_background": "light"
          }
        },
        {
          "output_type": "stream",
          "text": [
            "Prediction: six Truth: zero\n"
          ],
          "name": "stdout"
        },
        {
          "output_type": "display_data",
          "data": {
            "image/png": "[encoded data removed]",
            "text/plain": [
              "<Figure size 432x288 with 1 Axes>"
            ]
          },
          "metadata": {
            "tags": [],
            "needs_background": "light"
          }
        },
        {
          "output_type": "stream",
          "text": [
            "Prediction: two Truth: eight\n"
          ],
          "name": "stdout"
        },
        {
          "output_type": "display_data",
          "data": {
            "image/png": "[encoded data removed]",
            "text/plain": [
              "<Figure size 432x288 with 1 Axes>"
            ]
          },
          "metadata": {
            "tags": [],
            "needs_background": "light"
          }
        },
        {
          "output_type": "stream",
          "text": [
            "Prediction: three Truth: five\n"
          ],
          "name": "stdout"
        },
        {
          "output_type": "display_data",
          "data": {
            "image/png": "[encoded data removed]",
            "text/plain": [
              "<Figure size 432x288 with 1 Axes>"
            ]
          },
          "metadata": {
            "tags": [],
            "needs_background": "light"
          }
        },
        {
          "output_type": "stream",
          "text": [
            "Prediction: four Truth: one\n"
          ],
          "name": "stdout"
        },
        {
          "output_type": "display_data",
          "data": {
            "image/png": "[encoded data removed]",
            "text/plain": [
              "<Figure size 432x288 with 1 Axes>"
            ]
          },
          "metadata": {
            "tags": [],
            "needs_background": "light"
          }
        },
        {
          "output_type": "stream",
          "text": [
            "Prediction: nine Truth: nine\n"
          ],
          "name": "stdout"
        },
        {
          "output_type": "display_data",
          "data": {
            "image/png": "[encoded data removed]",
            "text/plain": [
              "<Figure size 432x288 with 1 Axes>"
            ]
          },
          "metadata": {
            "tags": [],
            "needs_background": "light"
          }
        },
        {
          "output_type": "stream",
          "text": [
            "Prediction: two Truth: two\n"
          ],
          "name": "stdout"
        },
        {
          "output_type": "display_data",
          "data": {
            "image/png": "[encoded data removed]",
            "text/plain": [
              "<Figure size 432x288 with 1 Axes>"
            ]
          },
          "metadata": {
            "tags": [],
            "needs_background": "light"
          }
        }
      ]
    },
    {
      "cell_type": "code",
      "metadata": {
        "id": "tERFnYuzkglW"
      },
      "source": [
        "# Generate adversarial data\n",
        "# x_adversarial, y_adversarial = np.load(\"x_adv_10k.npy\"), np.load(\"y_adv_10k.npy\")\n",
        "x_adversarial_train, y_adversarial_train = next(generate_adversarials(20000))\n",
        "x_adversarial_test, y_adversarial_test = next(generate_adversarials(10000))"
      ],
      "execution_count": null,
      "outputs": []
    },
    {
      "cell_type": "code",
      "metadata": {
        "colab": {
          "base_uri": "https://localhost:8080/"
        },
        "id": "NbjoQrt9kj0n",
        "outputId": "a765cf5b-732e-4526-acad-7b3502679d06"
      },
      "source": [
        "# Assess base model on adversarial data\n",
        "print(\"Base accuracy on adversarial images:\", model.evaluate(x=x_adversarial_test, y=y_adversarial_test, verbose=0))"
      ],
      "execution_count": null,
      "outputs": [
        {
          "output_type": "stream",
          "text": [
            "Base accuracy on adversarial images: [0.13227491080760956, 0.24060000479221344]\n"
          ],
          "name": "stdout"
        }
      ]
    },
    {
      "cell_type": "code",
      "metadata": {
        "colab": {
          "base_uri": "https://localhost:8080/"
        },
        "id": "zXUbsj9yk7ol",
        "outputId": "efc70d83-bda8-409c-b22b-35b29562e01e"
      },
      "source": [
        "# Learn from adversarial data\n",
        "model.fit(x_adversarial_train, y_adversarial_train,\n",
        "          batch_size=32,\n",
        "          epochs=10,\n",
        "          validation_data=(x_test, y_test))"
      ],
      "execution_count": null,
      "outputs": [
        {
          "output_type": "stream",
          "text": [
            "Epoch 1/10\n",
            "625/625 [==============================] - 6s 9ms/step - loss: 0.0070 - accuracy: 0.9622 - val_loss: 0.0094 - val_accuracy: 0.9462\n",
            "Epoch 2/10\n",
            "625/625 [==============================] - 6s 10ms/step - loss: 0.0021 - accuracy: 0.9892 - val_loss: 0.0082 - val_accuracy: 0.9535\n",
            "Epoch 3/10\n",
            "625/625 [==============================] - 6s 10ms/step - loss: 0.0020 - accuracy: 0.9900 - val_loss: 0.0105 - val_accuracy: 0.9418\n",
            "Epoch 4/10\n",
            "625/625 [==============================] - 5s 8ms/step - loss: 0.0020 - accuracy: 0.9897 - val_loss: 0.0091 - val_accuracy: 0.9491\n",
            "Epoch 5/10\n",
            "625/625 [==============================] - 5s 8ms/step - loss: 0.0019 - accuracy: 0.9901 - val_loss: 0.0107 - val_accuracy: 0.9407\n",
            "Epoch 6/10\n",
            "625/625 [==============================] - 5s 8ms/step - loss: 0.0012 - accuracy: 0.9937 - val_loss: 0.0105 - val_accuracy: 0.9415\n",
            "Epoch 7/10\n",
            "625/625 [==============================] - 6s 10ms/step - loss: 7.4573e-05 - accuracy: 0.9995 - val_loss: 0.0129 - val_accuracy: 0.9273\n",
            "Epoch 8/10\n",
            "625/625 [==============================] - 6s 9ms/step - loss: 5.8168e-05 - accuracy: 0.9996 - val_loss: 0.0099 - val_accuracy: 0.9442\n",
            "Epoch 9/10\n",
            "625/625 [==============================] - 5s 8ms/step - loss: 1.3916e-04 - accuracy: 0.9991 - val_loss: 0.0137 - val_accuracy: 0.9229\n",
            "Epoch 10/10\n",
            "625/625 [==============================] - 5s 8ms/step - loss: 9.0148e-05 - accuracy: 0.9995 - val_loss: 0.0120 - val_accuracy: 0.9327\n"
          ],
          "name": "stdout"
        },
        {
          "output_type": "execute_result",
          "data": {
            "text/plain": [
              "<tensorflow.python.keras.callbacks.History at 0x7ff23eba0da0>"
            ]
          },
          "metadata": {
            "tags": []
          },
          "execution_count": 36
        }
      ]
    },
    {
      "cell_type": "code",
      "metadata": {
        "colab": {
          "base_uri": "https://localhost:8080/"
        },
        "id": "cPU5guO3lBSw",
        "outputId": "de640c08-6e85-454e-8018-53106689dc13"
      },
      "source": [
        "# Assess defended model on adversarial data\n",
        "print(\"Defended accuracy on adversarial images:\", model.evaluate(x=x_adversarial_test, y=y_adversarial_test, verbose=0))\n",
        "\n",
        "# Assess defended model on regular data\n",
        "print(\"Defended accuracy on regular images:\", model.evaluate(x=x_test, y=y_test, verbose=0))"
      ],
      "execution_count": null,
      "outputs": [
        {
          "output_type": "stream",
          "text": [
            "Defended accuracy on adversarial images: [1.5624456262975018e-20, 1.0]\n",
            "Defended accuracy on regular images: [0.012007023207843304, 0.932699978351593]\n"
          ],
          "name": "stdout"
        }
      ]
    },
    {
      "cell_type": "code",
      "metadata": {
        "colab": {
          "base_uri": "https://localhost:8080/"
        },
        "id": "8_TfVLkSl2Yd",
        "outputId": "b3fcc54b-803b-41e1-a1d5-41e7ae9cbf72"
      },
      "source": [
        "x_adversarial_test, y_adversarial_test = next(generate_adversarials(10000))\n",
        "print(\"Defended accuracy on adversarial images:\", model.evaluate(x=x_adversarial_test, y=y_adversarial_test, verbose=0))"
      ],
      "execution_count": null,
      "outputs": [
        {
          "output_type": "stream",
          "text": [
            "Defended accuracy on adversarial images: [0.005741025321185589, 0.9652000069618225]\n"
          ],
          "name": "stdout"
        }
      ]
    }
  ]
}